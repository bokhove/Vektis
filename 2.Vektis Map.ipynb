{
 "cells": [
  {
   "cell_type": "markdown",
   "metadata": {},
   "source": [
    "# Choropleth map Netherlands' municipalities using Python's Bokeh with GEOJSON and CBS data\n",
    "  \n",
    "Plotting a map of the Netherlands' municipalities using Pyton's Bokeh with GEOJSON was copied from https://github.com/Lo-o/Choropleth-map-Netherlands-Bokeh-Python. Where the original examples uses CBS data to fill the map, I use data from Vektis Open data. The data is prepared in another Notebook (1.Vektis Open data demography) within this folder. The export of this preparatory Notebook can be saved and then imported in this one."
   ]
  },
  {
   "cell_type": "markdown",
   "metadata": {},
   "source": [
    "## Initialize Notebook"
   ]
  },
  {
   "cell_type": "code",
   "execution_count": null,
   "metadata": {},
   "outputs": [],
   "source": [
    "%matplotlib inline\n",
    "import pandas as pd\n",
    "import numpy as np\n",
    "import math\n",
    "\n",
    "import matplotlib.pyplot as plt\n",
    "plt.style.use('fivethirtyeight')\n",
    "import seaborn as sns\n",
    "from bokeh.io import output_notebook\n",
    "from bokeh.plotting import figure, show\n",
    "\n",
    "\n",
    "from bokeh.io import show, output_notebook, export_png\n",
    "from bokeh.models import (\n",
    "    GeoJSONDataSource,\n",
    "    ColumnDataSource,\n",
    "    HoverTool,\n",
    "    LinearColorMapper,\n",
    "    ColorBar,\n",
    "    LogTicker\n",
    ")\n",
    "from bokeh.palettes import Viridis256 as palette\n",
    "from bokeh.plotting import figure\n",
    "\n",
    "import json\n",
    "from collections import OrderedDict\n",
    "output_notebook()"
   ]
  },
  {
   "cell_type": "markdown",
   "metadata": {},
   "source": [
    "# Select analysis"
   ]
  },
  {
   "cell_type": "code",
   "execution_count": null,
   "metadata": {},
   "outputs": [],
   "source": [
    "# Do you want to load the information about outliers or information about the whole country?\n",
    "analyse = 'outliers' #'all'\n",
    "\n",
    "analyse_jaar = '2011'"
   ]
  },
  {
   "cell_type": "markdown",
   "metadata": {},
   "source": [
    "## Get the data from Vektis dump\n",
    "We load the data directly into a pandas dataframe"
   ]
  },
  {
   "cell_type": "code",
   "execution_count": null,
   "metadata": {},
   "outputs": [],
   "source": [
    "if analyse == 'outliers':\n",
    "    df = pd.read_csv('data/outliers_' + analyse_jaar + '.csv', decimal=',')\n",
    "    displayValue = 'Outliers ' + df.columns[1]\n",
    "elif analyse ==  'all':\n",
    "    df = pd.read_csv('data/df_vektis_' + analyse_jaar + '.csv', decimal=',')\n",
    "    displayValue = df.columns[1] + ' per gemeente'\n",
    "else:\n",
    "    print('Please, use \"outliers\" or \"all\"')\n",
    "\n",
    "# It's easier just to have a 'Value' column for further programming ;-)\n",
    "df.columns = ['Gemeentenaam','Value']\n",
    "\n",
    "# Take a look at the data from Vektis:\n",
    "df.head()"
   ]
  },
  {
   "cell_type": "markdown",
   "metadata": {},
   "source": [
    "The formatting of the names of the municipalities within the Vektis Open data is not the same as in the GEOJSON data. We'll need to fix this (Part I).\n",
    "The names of the municipalities within the Vektis Open data and the GEOJSON data does not always match. We'll need to fix this (Part II)."
   ]
  },
  {
   "cell_type": "code",
   "execution_count": null,
   "metadata": {},
   "outputs": [],
   "source": [
    "# dictionary contains (1) value from GEOJSON map and (2) Gemeentenaam from Vektis\n",
    "conversion_dict = {'Dantumadeel (Dantumadiel)':'Dantumadiel',\n",
    "                   'Ferwerderadeel (Ferwerderadiel)':'Ferwerderadiel',\n",
    "                   'SÃºdwest-FryslÃ¢n':'Sudwest-Fryslan',\n",
    "                   'Tietjerksteradeel (Tytsjerksteradiel)':'Tytsjerksteradiel',\n",
    "                   'De Friese Meren':'De Fryske Marren',\n",
    "                   'Franekeradeel':'Waadhoeke',\n",
    "                   'het Bildt':'Waadhoeke',\n",
    "                   'Littenseradeel (Littenseradiel)':'Waadhoeke',\n",
    "                   'Menaldumadeel (Menaldumadiel)':'Waadhoeke',\n",
    "                   'Leeuwarderadeel':'Leeuwarden',\n",
    "                   'Tietjerksteradeel (Tytsjerksteradiel)':'Tytsjerksteradiel',\n",
    "                   'Groesbeek':'Berg en Dal',\n",
    "                   'Kollumerland en Nieuwkruisland':'Kollumerland Ca',\n",
    "                   'Rijnwaarden':'Zevenaar',\n",
    "                   'Bellingwedde':'Westerwolde',\n",
    "                   'Vlagtwedde':'Westerwolde',\n",
    "                   'Groningen (Gr)':'Groningen',\n",
    "                   'Hoogezand-Sappemeer':'Midden-Groningen',\n",
    "                   'Menterwolde':'Midden-Groningen',\n",
    "                   'Slochteren':'Midden-Groningen',\n",
    "                   'Bergen (L)':'Bergen Lb',\n",
    "                   'Bergen (NH)':'Bergen Nh',\n",
    "                   'Nuenen, Gerwen en Nederwetten':'Nuenen Ca',\n",
    "                   'Schijndel':'Meierijstad',\n",
    "                   'Sint-Oedenrode':'Meierijstad',\n",
    "                   'Veghel':'Meierijstad',\n",
    "                   \"'s-Hertogenbosch\":'S Hertogenbosch',\n",
    "                   'Bussum':'Gooise Meren',\n",
    "                   'Muiden':'Gooise Meren',\n",
    "                   'Naarden':'Gooise Meren',\n",
    "                   'Haarlemmerliede en Spaarnwoude':'Haarlemmerliede Ca',\n",
    "                   'Zeevang':'Edam-Volendam',\n",
    "                   'Hengelo (O)':'Hengelo',\n",
    "                   'Utrecht (Ut)':'Utrecht',\n",
    "                   \"'s-Gravenhage\":'S Gravenhage'}\n",
    "\n",
    "def fixMunicipalities(df, convert_dict, column):\n",
    "    \"\"\"Fix the municipalities names so they match the GEOJSON data by (1) correcting the case, and (2) matching based\n",
    "    on the dictionary which translates municipalities from Vektis to GEOJSON\"\"\"\n",
    "    # Part I\n",
    "    df['Gemeentenaam'] = df['Gemeentenaam'].str.title()\n",
    "    df['Gemeentenaam'] = df['Gemeentenaam'].str.replace(' En ', ' en ')\n",
    "    df['Gemeentenaam'] = df['Gemeentenaam'].str.replace(' Aan ', ' aan ')\n",
    "    df['Gemeentenaam'] = df['Gemeentenaam'].str.replace(' De ', ' de ')\n",
    "    df['Gemeentenaam'] = df['Gemeentenaam'].str.replace(' Den ', ' den ')\n",
    "    df['Gemeentenaam'] = df['Gemeentenaam'].str.replace(' Op ', ' op ')\n",
    "    df['Gemeentenaam'] = df['Gemeentenaam'].str.replace(' Van ', ' van ')\n",
    "    df['Gemeentenaam'] = df['Gemeentenaam'].str.replace(' Bij ', ' bij ')\n",
    "    df['Gemeentenaam'] = df['Gemeentenaam'].str.replace('Ij', 'IJ')\n",
    "    \n",
    "    df = df.set_index('Gemeentenaam')\n",
    "\n",
    "    noMatch = []\n",
    "    # Part II\n",
    "    for key in convert_dict:\n",
    "        try: \n",
    "            df[column][key] = df[column][convert_dict[key]]\n",
    "\n",
    "        except KeyError:\n",
    "            noMatch.append(convert_dict[key])\n",
    "    \n",
    "    return df, noMatch\n",
    "\n",
    "df_fixed, unfindable = fixMunicipalities(df, conversion_dict, 'Value')\n",
    "df_fixed.head()"
   ]
  },
  {
   "cell_type": "markdown",
   "metadata": {},
   "source": [
    "The following municipalities were not matched. This happens a lot with the Outliers-files, but should be empty for Vektis files containing all municipalities."
   ]
  },
  {
   "cell_type": "code",
   "execution_count": null,
   "metadata": {},
   "outputs": [],
   "source": [
    "unfindable"
   ]
  },
  {
   "cell_type": "markdown",
   "metadata": {},
   "source": [
    "(Almost) one-on-one copy of the original file from Github."
   ]
  },
  {
   "cell_type": "code",
   "execution_count": null,
   "metadata": {},
   "outputs": [],
   "source": [
    "# read all municipalities\n",
    "# SOURCE: https://www.webuildinternet.com/2015/07/09/geojson-data-of-the-netherlands/\n",
    "\n",
    "# os.chdir(r'LOCATION\\OF\\YOUR\\FILE')\n",
    "\n",
    "with open(r'Gemeenten.geojson', 'r') as f:\n",
    "    dutch_municipalities_dict = json.loads(f.read(), object_hook=OrderedDict)\n",
    "    \n",
    "# See how this geojson looks. It's basically a dictionary with many polygons, \n",
    "# which dictate the outer edges of (in this case) the municipalities. \n",
    "# Also, there is an 'properties' part connected to each set of locations, which holds additional information. \n",
    "# Already included are the municipality names, code and some more features. \n",
    "# We will add one more feature ourselves here: the average regional income. \n",
    "\n",
    "# Can't run this in Github since it displays the entire dictionary which is very large. \n",
    "# dutch_municipalities_dict"
   ]
  },
  {
   "cell_type": "code",
   "execution_count": null,
   "metadata": {},
   "outputs": [],
   "source": [
    "# Function below will add in the Vektis data we have. \n",
    "# This is based on crossing the names: it will look for the name from the geojson in the Vektis data\n",
    "# This will work for many municipalities, but there will unfortunately be cases in which the municipality can't be found. \n",
    "\n",
    "# Python will give a KeyError in those cases. Because of changes in municipalities (Gemeentelijke herindelingen) \n",
    "# we won't be able to fix all name incompatabilities, but many we will. Therefore, store them in  a separate file.\n",
    "def merge_values(dutch_municipalities_dict, df):\n",
    "    \n",
    "    municipality = dutch_municipalities_dict['properties']['name']\n",
    "    \n",
    "    try: \n",
    "        dutch_municipalities_dict['properties']['Value'] = round(df['Value'][municipality],0).astype('float')\n",
    "    except KeyError:\n",
    "        #unfindable.append(municipality)\n",
    "        dutch_municipalities_dict['properties']['Value'] = df['Value'].mean()\n",
    "\n",
    "    return dutch_municipalities_dict\n",
    "\n",
    "\n",
    "#unfindable = []\n",
    "\n",
    "# merge Vektis data: execute the function here.\n",
    "dutch_municipalities_dict['features'] = [merge_values(municipality, df_fixed) for municipality in dutch_municipalities_dict['features']]\n",
    "\n",
    "# See how the GEOJSON has changed since the previous one: a new property - Value - is added\n",
    "#dutch_municipalities_dict"
   ]
  },
  {
   "cell_type": "code",
   "execution_count": null,
   "metadata": {},
   "outputs": [],
   "source": [
    "unfindable"
   ]
  },
  {
   "cell_type": "markdown",
   "metadata": {},
   "source": [
    "# Visualization in Bokeh"
   ]
  },
  {
   "cell_type": "markdown",
   "metadata": {},
   "source": [
    "The original version at Github was modified for the use of the Vektis Open data."
   ]
  },
  {
   "cell_type": "code",
   "execution_count": null,
   "metadata": {},
   "outputs": [],
   "source": [
    "def plotMap(dict, minValue, maxValue, displayValue, jaar):\n",
    "    color_mapper = LinearColorMapper(palette=palette, low_color='blue', high_color='red', low=minValue, high=maxValue)\n",
    "\n",
    "    TOOLS = \"pan,wheel_zoom,box_zoom,reset,hover,save\"\n",
    "\n",
    "    p = figure(\n",
    "        title= displayValue + \" (\" + jaar + \")\", tools=TOOLS,\n",
    "        x_axis_location=None, y_axis_location=None\n",
    "    )\n",
    "    p.grid.grid_line_color = None\n",
    "\n",
    "    geo_source = GeoJSONDataSource(geojson=json.dumps(dict))\n",
    "    \n",
    "    p.patches('xs', 'ys', source=geo_source,\n",
    "              fill_color={'field': 'Value', 'transform': color_mapper},\n",
    "              fill_alpha=0.7, line_color=\"white\", line_width=0.5)\n",
    "\n",
    "    hover = p.select_one(HoverTool)\n",
    "    hover.point_policy = \"follow_mouse\"\n",
    "    hover.tooltips = [\n",
    "        (\"Name\", \"@name\"),\n",
    "        #(\"Code\", \"@code\"),\n",
    "        (\"Waarde\", \"@Value\"),\n",
    "        #(\"Level\", \"@level\"),\n",
    "        #(\"(Long, Lat)\", \"($x, $y)\"),\n",
    "    ]\n",
    "\n",
    "    color_bar = ColorBar(color_mapper=color_mapper, border_line_color=None, location=(0,0))\n",
    "    p.add_layout(color_bar, 'left')\n",
    "    \n",
    "    show(p)\n",
    "\n",
    "minValue = int(math.floor(df_fixed.min() / 10.0)) * 10\n",
    "maxValue = int(math.ceil( df_fixed.max() / 10.0)) * 10\n",
    "plotMap(dutch_municipalities_dict, minValue, maxValue, displayValue, analyse_jaar)"
   ]
  },
  {
   "cell_type": "markdown",
   "metadata": {},
   "source": [
    "# Make it possible to plot multiple maps using an all-in-one function"
   ]
  },
  {
   "cell_type": "code",
   "execution_count": null,
   "metadata": {},
   "outputs": [],
   "source": [
    "def allInOne(jaar, analyse):\n",
    "    brk = False\n",
    "    if analyse == 'outliers':\n",
    "        df = pd.read_csv('data/outliers_' + jaar + '.csv', decimal=',')\n",
    "        displayValue = 'Outliers ' + df.columns[1]\n",
    "    elif analyse == 'all':\n",
    "        df = pd.read_csv('data/df_vektis_' + jaar + '.csv', decimal=',')\n",
    "        displayValue = df.columns[1] + ' per gemeente'\n",
    "    else:\n",
    "        print('Please, select \"outliers\" or \"all\"')\n",
    "        return\n",
    "    \n",
    "    df.columns = ['Gemeentenaam','Value']\n",
    "    df_fixed, unfindable = fixMunicipalities(df, conversion_dict, 'Value')\n",
    "\n",
    "    with open(r'Gemeenten.geojson', 'r') as f:\n",
    "        dutch_municipalities_dict = json.loads(f.read(), object_hook=OrderedDict)\n",
    "        \n",
    "    dutch_municipalities_dict['features'] = [merge_values(municipality, df_fixed) for municipality in dutch_municipalities_dict['features']]\n",
    "    \n",
    "    minValue = int(math.floor(df_fixed.min() / 10.0)) * 10\n",
    "    maxValue = int(math.ceil( df_fixed.max() / 10.0)) * 10\n",
    "    \n",
    "    plotMap(dutch_municipalities_dict, minValue, maxValue, displayValue, jaar)\n",
    "\n",
    "allInOne('2012', 'all')\n",
    "allInOne('2012', 'outliers')"
   ]
  },
  {
   "cell_type": "code",
   "execution_count": null,
   "metadata": {},
   "outputs": [],
   "source": []
  }
 ],
 "metadata": {
  "kernelspec": {
   "display_name": "Python 3",
   "language": "python",
   "name": "python3"
  },
  "language_info": {
   "codemirror_mode": {
    "name": "ipython",
    "version": 3
   },
   "file_extension": ".py",
   "mimetype": "text/x-python",
   "name": "python",
   "nbconvert_exporter": "python",
   "pygments_lexer": "ipython3",
   "version": "3.7.2"
  }
 },
 "nbformat": 4,
 "nbformat_minor": 2
}
